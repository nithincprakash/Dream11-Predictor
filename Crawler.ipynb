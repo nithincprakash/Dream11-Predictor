{
 "cells": [
  {
   "cell_type": "code",
   "execution_count": 207,
   "metadata": {},
   "outputs": [],
   "source": [
    "from urllib import request as urllib2\n",
    "from bs4 import BeautifulSoup as soup\n",
    "import pandas as pd\n",
    "import numpy as np\n",
    "import time\n",
    "import re"
   ]
  },
  {
   "cell_type": "code",
   "execution_count": 208,
   "metadata": {},
   "outputs": [],
   "source": [
    "#Add required match url and player list to consider if any.\n",
    "url = 'https://www.espncricinfo.com/series/19245/game/1183512/australia-women-vs-sri-lanka-women-3rd-t20i-sl-w-in-australia-2019-20'\n",
    "#consider_players = \"Ram Dayal, Parvez Rasool (c), Mohammed Mudhasir, Shubham Khajuria, Waseem Raza, Ahmed Banday, Umar Nazir Mir, Shubham Pundir, Jatin Wadhwan, Fazil Rashid (wk), Qamran Iqbal, Ashok Menaria, Aniket Choudhary, Arjit Gupta, Abhimanyu Lamba, Chetan Bist (wk), Manender Narender Singh, K Khaleel Ahmed, Mahipal Lomror (c), Rahul Chahar, Salman Khan, Tajinder Singh\"\n",
    "\n",
    "consider_players = \"\"\n",
    "\n",
    "report_name = 'Aus W vs SL W Oct 02 2019.csv'\n",
    "\n",
    "'''missing_players = {'Shakib Al Hasan': 'http://www.espncricinfo.com/bangladesh/content/player/56143.html', \n",
    "                  'Sunil Narine': 'http://www.espncricinfo.com/westindies/content/player/230558.html',\n",
    "                  'Hayden Walsh': 'http://www.espncricinfo.com/usa/content/player/443263.html'}'''\n",
    "missing_players ={}"
   ]
  },
  {
   "cell_type": "code",
   "execution_count": 209,
   "metadata": {},
   "outputs": [],
   "source": [
    "int_countries = \"AUS Women, SL Women, WI Women, sa, bdesh, india, pakistan, sri Lanka, bangladesh, afghanistan, south africa, new zealand, australia, england, west indies, nepal, zimbabwe, kenya, ireland, singapore, kuwaith, uae, canada, qatar, malaysia, denmark\""
   ]
  },
  {
   "cell_type": "code",
   "execution_count": 210,
   "metadata": {},
   "outputs": [],
   "source": [
    "#add useragent to access cricinfo\n",
    "user_agent = 'Mozilla/5.0 (Windows; U; Windows NT 5.1; en-US; rv:1.9.0.7) Gecko/2009021910 Firefox/3.0.7'\n",
    "headers={'User-Agent':user_agent,} "
   ]
  },
  {
   "cell_type": "code",
   "execution_count": 211,
   "metadata": {},
   "outputs": [],
   "source": [
    "# Get match details\n",
    "request=urllib2.Request(url,None,headers)\n",
    "response = urllib2.urlopen(request)\n",
    "data = response.read()\n",
    "page_soup = soup(data, 'html.parser')\n",
    "\n",
    "#Get HTML related to player list\n",
    "players_list_html = (page_soup.find('article', {'class': 'boxscore-tabs sub-module-mobile-combine-split combined squad'})\n",
    "                .findAll('td', {'class': 'name'}))\n"
   ]
  },
  {
   "cell_type": "code",
   "execution_count": 212,
   "metadata": {},
   "outputs": [],
   "source": [
    "#Validate if player is required\n",
    "def validate_player(player):\n",
    "    result = True\n",
    "    if consider_players != \"\":   \n",
    "        result = False\n",
    "        player = player.split(\" \")\n",
    "        for item in player:\n",
    "            if item in consider_players:            \n",
    "                result = True\n",
    "    return result"
   ]
  },
  {
   "cell_type": "code",
   "execution_count": 213,
   "metadata": {},
   "outputs": [
    {
     "name": "stderr",
     "output_type": "stream",
     "text": [
      "C:\\Users\\nithin.prakash\\AppData\\Local\\Continuum\\anaconda3\\lib\\site-packages\\pandas\\core\\frame.py:6211: FutureWarning: Sorting because non-concatenation axis is not aligned. A future version\n",
      "of pandas will change to not sort by default.\n",
      "\n",
      "To accept the future behavior, pass 'sort=False'.\n",
      "\n",
      "To retain the current behavior and silence the warning, pass 'sort=True'.\n",
      "\n",
      "  sort=sort)\n"
     ]
    }
   ],
   "source": [
    "players_details = pd.DataFrame(columns={'name', 'link'})\n",
    "for item in players_list_html:\n",
    "    player_name = item.find('a').contents[0]\n",
    "    player_link = item.find('a')['href']\n",
    "    if player_name and player_link:\n",
    "        player_name = player_name.replace('(c)', \"\").replace('†', \"\").strip()\n",
    "        if validate_player(player_name):\n",
    "            player_details = pd.DataFrame({\"name\": [player_name], \"link\": [player_link]})\n",
    "            players_details = players_details.append(player_details, ignore_index = True)"
   ]
  },
  {
   "cell_type": "code",
   "execution_count": 214,
   "metadata": {},
   "outputs": [],
   "source": [
    "#Add missing Players\n",
    "c = []\n",
    "for item in missing_players:\n",
    "    player_details = pd.DataFrame({\"name\": [item], \"link\": [missing_players[item]]})\n",
    "    players_details = players_details.append(player_details, ignore_index = True)"
   ]
  },
  {
   "cell_type": "code",
   "execution_count": 215,
   "metadata": {},
   "outputs": [
    {
     "data": {
      "text/plain": [
       "\"#c = ['Bat & Bowl', 'Team', 'Opposition', 'Ground', 'Match Date', 'Scorecard']\\ntemp = get_player_details('http://www.espncricinfo.com/ci/content/player/275447.html')\\nprint(temp)\\nprint(get_player_stats(temp))\\nlen(c)\""
      ]
     },
     "execution_count": 215,
     "metadata": {},
     "output_type": "execute_result"
    }
   ],
   "source": [
    "'''#c = ['Bat & Bowl', 'Team', 'Opposition', 'Ground', 'Match Date', 'Scorecard']\n",
    "temp = get_player_details('http://www.espncricinfo.com/ci/content/player/275447.html')\n",
    "print(temp)\n",
    "print(get_player_stats(temp))\n",
    "len(c)'''"
   ]
  },
  {
   "cell_type": "code",
   "execution_count": 216,
   "metadata": {},
   "outputs": [],
   "source": [
    "def get_player_details(player_url):\n",
    "    #get details from cricinfo\n",
    "    request=urllib2.Request(player_url,None,headers)\n",
    "    response = urllib2.urlopen(request)\n",
    "    data = response.read()\n",
    "    page_soup = soup(data, 'html.parser')\n",
    "    \n",
    "    c = []\n",
    "    #Search for previous match details\n",
    "    page_tables = page_soup.find_all('table', {'class': 'engineTable'})\n",
    "    \n",
    "    #Extract previous match details to dataframe\n",
    "    recent_match_table = \"\"\n",
    "    for table in page_tables:\n",
    "        is_match_stats = table.find('th',{'title': 'opposition'})\n",
    "        if is_match_stats:\n",
    "            recent_match_table = table\n",
    "    if recent_match_table != \"\":        \n",
    "        for item in recent_match_table.find_all('th'):\n",
    "            c.append(item.contents[0])\n",
    "        c.append('is_international')\n",
    "        previous_match_details = pd.DataFrame(columns=c)\n",
    "        for item in recent_match_table.find_all('tr'):\n",
    "            r = item.find_all('td')\n",
    "            if len(r) == len(c) - 1:\n",
    "                is_int = r[2].contents[0][2:].replace('Women', '').strip().lower() in int_countries\n",
    "                data = {c[0]: [r[0].contents[0]], c[1]: [r[1].contents[0]], c[2]: [r[2].contents[0]], \n",
    "                                c[3]: [r[3].find('a').contents[0]], c[4]: [r[4].contents[0]], \n",
    "                        c[5]: [r[5].contents[0].contents[0]],\n",
    "                       c[6]: [is_int]}\n",
    "                row = pd.DataFrame(data=data)\n",
    "                previous_match_details = previous_match_details.append(row, ignore_index=True)\n",
    "        \n",
    "        return previous_match_details\n",
    "    else:\n",
    "        return pd.DataFrame()"
   ]
  },
  {
   "cell_type": "code",
   "execution_count": 217,
   "metadata": {},
   "outputs": [],
   "source": [
    "def get_bat_points(score, mode='odi'):\n",
    "    runs = int(score.replace(\"*\", \"\").strip())\n",
    "    points = runs * 1\n",
    "    if(runs > 100):\n",
    "        points = runs + 20\n",
    "    elif(runs > 50):\n",
    "        points = runs + 10\n",
    "    if(mode == 't20' and runs > 30):\n",
    "        points = points + 10\n",
    "    return points * 1.2\n",
    "def get_bowl_points(score):\n",
    "    wickets = int(score.split(sep='/')[0].strip())\n",
    "    points = wickets * 20\n",
    "    if wickets > 2:\n",
    "        points = points + ((wickets - 2) * 10)\n",
    "    return points + 5\n",
    "def get_catch_points(score):\n",
    "    score = score.split(sep='/')\n",
    "    catch = int(score[0].replace('c','').strip())\n",
    "    stump = int(score[1].replace('s','').strip())\n",
    "    return catch * 10 + stump * 15"
   ]
  },
  {
   "cell_type": "code",
   "execution_count": 218,
   "metadata": {},
   "outputs": [],
   "source": [
    "def get_odi_points(stats):\n",
    "    bat_points = 0\n",
    "    bowl_points = 0\n",
    "    catch_points = 0\n",
    "    stats = stats.split(sep=',')\n",
    "    for stat in stats:\n",
    "        if 'c' in stat:\n",
    "            catch_points = get_catch_points(stat)\n",
    "        elif '/' in stat:\n",
    "            bowl_points = get_bowl_points(stat)\n",
    "        elif '-' not in stat:\n",
    "            bat_points = get_bat_points(stat)\n",
    "    return bat_points, bowl_points, catch_points\n",
    "\n",
    "def get_t20_points(stats):\n",
    "    bat_points = 0\n",
    "    bowl_points = 0\n",
    "    catch_points = 0\n",
    "    stats = stats.split(sep=',')\n",
    "    for stat in stats:\n",
    "        if 'c' in stat:\n",
    "            catch_points = get_catch_points(stat)\n",
    "        elif '/' in stat:\n",
    "            bowl_points = get_bowl_points(stat)\n",
    "        elif '-' not in stat:\n",
    "            bat_points = get_bat_points(stat, 't20')\n",
    "    return bat_points, bowl_points, catch_points\n",
    "\n",
    "def get_test_points(stats):\n",
    "    bat_points = 0\n",
    "    bowl_points = 0\n",
    "    catch_points = 0\n",
    "    bat_ings = 0\n",
    "    bowl_ings = 0\n",
    "    catch_ings = 0\n",
    "    \n",
    "    stats = stats.split(sep=',')\n",
    "    for stat in stats:\n",
    "        if 'c' in stat:\n",
    "            catch_ings += 1\n",
    "            catch_points += get_catch_points(stat)\n",
    "            catch_points = catch_points / catch_ings              \n",
    "        elif '/' in stat:\n",
    "            bowl_ings += 1\n",
    "            bowl_points += get_bowl_points(stat)\n",
    "            bowl_points = bowl_points / bowl_ings\n",
    "        elif '-' not in stat:\n",
    "            bat_ings += 1\n",
    "            bat_points += get_bat_points(stat)\n",
    "            bat_points = bat_points / bat_ings\n",
    "    return bat_points, bowl_points, catch_points"
   ]
  },
  {
   "cell_type": "code",
   "execution_count": 228,
   "metadata": {},
   "outputs": [],
   "source": [
    "def get_player_stats(df):\n",
    "    bat_points_list = []\n",
    "    bowl_points_list = []\n",
    "    catch_points_list = []\n",
    "    for index, match in df.iterrows():\n",
    "        bat_points = 0\n",
    "        bowl_points = 0 \n",
    "        catch_points = 0\n",
    "        if \"ODI\" in match['Scorecard']:\n",
    "            bat_points, bowl_points, catch_points = get_odi_points(match['Bat & Bowl'])\n",
    "        elif \"T20\" in match['Scorecard']:\n",
    "            bat_points, bowl_points, catch_points = get_t20_points(match['Bat & Bowl'])\n",
    "        elif \"Test\" or 'FC' in match['Scorecard']:\n",
    "            bat_points, bowl_points, catch_points = get_test_points(match['Bat & Bowl'])\n",
    "        else:\n",
    "            bat_points, bowl_points, catch_points = get_test_points(match['Bat & Bowl'])\n",
    "        if match['Opposition'][2:].strip() in int_countries:\n",
    "            bat_points, bowl_points = bat_points * 1.2, bowl_points * 1.2\n",
    "            \n",
    "        bat_points_list.append(bat_points)\n",
    "        bowl_points_list.append(bowl_points)\n",
    "        catch_points_list.append(catch_points)\n",
    "    df['bat_points'] = bat_points_list\n",
    "    df['bowl_points'] = bowl_points_list\n",
    "    df['catch_points'] = catch_points_list\n",
    "    df['total_points'] = df['bat_points'] + df['bowl_points'] + df['catch_points']\n",
    "    return df"
   ]
  },
  {
   "cell_type": "code",
   "execution_count": null,
   "metadata": {
    "scrolled": true
   },
   "outputs": [
    {
     "name": "stdout",
     "output_type": "stream",
     "text": [
      "http://www.espncricinfo.com/ci/content/player/275447.html\n",
      "http://www.espncricinfo.com/ci/content/player/381217.html\n",
      "http://www.espncricinfo.com/ci/content/player/858809.html\n",
      "http://www.espncricinfo.com/ci/content/player/546629.html\n",
      "http://www.espncricinfo.com/ci/content/player/268889.html\n",
      "http://www.espncricinfo.com/ci/content/player/275486.html\n",
      "http://www.espncricinfo.com/ci/content/player/374936.html\n",
      "http://www.espncricinfo.com/ci/content/player/263473.html\n",
      "http://www.espncricinfo.com/ci/content/player/329336.html\n",
      "http://www.espncricinfo.com/ci/content/player/381258.html\n",
      "http://www.espncricinfo.com/ci/content/player/275487.html\n",
      "http://www.espncricinfo.com/ci/content/player/420314.html\n",
      "http://www.espncricinfo.com/ci/content/player/1071711.html\n",
      "http://www.espncricinfo.com/ci/content/player/946057.html\n"
     ]
    }
   ],
   "source": [
    "players_stat = {}\n",
    "for index, item in players_details.iterrows():\n",
    "    time.sleep(2)\n",
    "    print(item['link'])\n",
    "    player_detail = get_player_details(item['link'])\n",
    "    player_stat = get_player_stats(player_detail)\n",
    "    \n",
    "    players_stat[item['name']] = player_stat"
   ]
  },
  {
   "cell_type": "code",
   "execution_count": null,
   "metadata": {},
   "outputs": [],
   "source": [
    "len(players_stat)\n",
    "players_stat"
   ]
  },
  {
   "cell_type": "code",
   "execution_count": null,
   "metadata": {},
   "outputs": [],
   "source": [
    "def cal_weighted_points(points, coef):\n",
    "    if coef < 90:\n",
    "        return points\n",
    "    \n",
    "    return points * (1-(coef-90) * 0.003)"
   ]
  },
  {
   "cell_type": "code",
   "execution_count": null,
   "metadata": {},
   "outputs": [],
   "source": [
    "p_df = pd.DataFrame(columns=['player', 'weight_points','one_match_per', 'total_points', 'coef_var', 'int_matches', \n",
    "                                             'int_points', 'bat_points', 'bowl_points','catch_points'])\n",
    "p = players_stat\n",
    "for i in players_stat:\n",
    "    try:\n",
    "        df = p[i]\n",
    "        coef = (df['total_points'].std() / df['total_points'].mean()) * 100\n",
    "        weighted_points = cal_weighted_points(df['total_points'].mean(), coef)    \n",
    "        one_match_per = (df['total_points'].nlargest(2).sum() / df['total_points'].sum()) * 100\n",
    "        int_match_count = df['is_international'].sum()\n",
    "        int_match_points = df[df['is_international']]['total_points'].sum() / (int_match_count + 0.001)\n",
    "        row = pd.DataFrame({\n",
    "                            'player': [i], \n",
    "                            'weight_points': [weighted_points],\n",
    "                            'one_match_per': [one_match_per],\n",
    "                            'total_points': [df['total_points'].mean()],\n",
    "                            'coef_var': [coef],\n",
    "                            'int_matches':[int_match_count],\n",
    "                            'int_points': [int_match_points],\n",
    "                            'bat_points': [df['bat_points'].mean()],\n",
    "                            'bowl_points': [df['bowl_points'].mean()],\n",
    "                            'catch_points': [df['catch_points'].mean()],\n",
    "                           })\n",
    "        p_df = p_df.append(row, ignore_index=True)\n",
    "    except:\n",
    "        print(df)\n",
    "p_df = p_df.sort_values(by=['weight_points'], ascending=False)\n",
    "consist_players = p_df[p_df['one_match_per'] < 40]\n",
    "inconsist_players = p_df.loc[(p_df['one_match_per'] > 39.99) & (p_df['one_match_per'] < 50.00001)]\n",
    "extremly_inconsistant_players = p_df[p_df['one_match_per'] > 50]"
   ]
  },
  {
   "cell_type": "code",
   "execution_count": null,
   "metadata": {
    "scrolled": true
   },
   "outputs": [],
   "source": [
    "consist_players.to_csv('consist_'+ report_name)\n",
    "consist_players"
   ]
  },
  {
   "cell_type": "code",
   "execution_count": null,
   "metadata": {},
   "outputs": [],
   "source": [
    "inconsist_players.to_csv('inconsist_'+ report_name)\n",
    "inconsist_players"
   ]
  },
  {
   "cell_type": "code",
   "execution_count": null,
   "metadata": {
    "scrolled": true
   },
   "outputs": [],
   "source": [
    "extremly_inconsistant_players"
   ]
  },
  {
   "cell_type": "code",
   "execution_count": null,
   "metadata": {
    "scrolled": true
   },
   "outputs": [],
   "source": [
    "players_stat['Erin Burns']"
   ]
  },
  {
   "cell_type": "code",
   "execution_count": 221,
   "metadata": {},
   "outputs": [],
   "source": [
    "p_df.to_csv(report_name)"
   ]
  },
  {
   "cell_type": "code",
   "execution_count": 168,
   "metadata": {},
   "outputs": [
    {
     "data": {
      "text/plain": [
       "\"p_df = pd.DataFrame(columns=['player', 'weight_points','one_match_per', 'total_points', 'coef_var', 'int_matches', \\n                                             'int_points', 'bat_points', 'bowl_points','catch_points'])\\np = players_stat\\nfor i in players_stat:\\n    try:\\n        df = p[i][:3]\\n        coef = (df['total_points'].std() / df['total_points'].mean()) * 100\\n        weighted_points = cal_weighted_points(df['total_points'].mean(), coef)    \\n        one_match_per = (df['total_points'].max() / df['total_points'].sum()) * 100\\n        int_match_count = df['is_international'].sum()\\n        int_match_points = df[df['is_international']]['total_points'].sum() / (int_match_count + 0.001)\\n        row = pd.DataFrame({\\n                            'player': [i], \\n                            'weight_points': [weighted_points],\\n                            'one_match_per': [one_match_per],\\n                            'total_points': [df['total_points'].mean()],\\n                            'coef_var': [coef],\\n                            'int_matches':[int_match_count],\\n                            'int_points': [int_match_points],\\n                            'bat_points': [df['bat_points'].mean()],\\n                            'bowl_points': [df['bowl_points'].mean()],\\n                            'catch_points': [df['catch_points'].mean()],\\n                           })\\n        p_df = p_df.append(row, ignore_index=True)\\n    except:\\n        print(df)\\np_df = p_df.sort_values(by=['weight_points'], ascending=False)\""
      ]
     },
     "execution_count": 168,
     "metadata": {},
     "output_type": "execute_result"
    }
   ],
   "source": [
    "'''p_df = pd.DataFrame(columns=['player', 'weight_points','one_match_per', 'total_points', 'coef_var', 'int_matches', \n",
    "                                             'int_points', 'bat_points', 'bowl_points','catch_points'])\n",
    "p = players_stat\n",
    "for i in players_stat:\n",
    "    try:\n",
    "        df = p[i][:3]\n",
    "        coef = (df['total_points'].std() / df['total_points'].mean()) * 100\n",
    "        weighted_points = cal_weighted_points(df['total_points'].mean(), coef)    \n",
    "        one_match_per = (df['total_points'].max() / df['total_points'].sum()) * 100\n",
    "        int_match_count = df['is_international'].sum()\n",
    "        int_match_points = df[df['is_international']]['total_points'].sum() / (int_match_count + 0.001)\n",
    "        row = pd.DataFrame({\n",
    "                            'player': [i], \n",
    "                            'weight_points': [weighted_points],\n",
    "                            'one_match_per': [one_match_per],\n",
    "                            'total_points': [df['total_points'].mean()],\n",
    "                            'coef_var': [coef],\n",
    "                            'int_matches':[int_match_count],\n",
    "                            'int_points': [int_match_points],\n",
    "                            'bat_points': [df['bat_points'].mean()],\n",
    "                            'bowl_points': [df['bowl_points'].mean()],\n",
    "                            'catch_points': [df['catch_points'].mean()],\n",
    "                           })\n",
    "        p_df = p_df.append(row, ignore_index=True)\n",
    "    except:\n",
    "        print(df)\n",
    "p_df = p_df.sort_values(by=['weight_points'], ascending=False)'''"
   ]
  },
  {
   "cell_type": "code",
   "execution_count": null,
   "metadata": {},
   "outputs": [],
   "source": [
    "'''stadium_url = 'http://stats.espncricinfo.com/westindies/engine/records/team/match_results.html?class=3;id=199;type=ground'\n",
    "request=urllib2.Request(stadium_url,None,headers)\n",
    "response = urllib2.urlopen(request)\n",
    "data = response.read()\n",
    "page_soup = soup(data, 'html.parser')\n",
    "\n",
    "matches = page_soup.find('table', {'class': 'engineTable'}).find_all('td', {'nowrap': 'nowrap'})\n",
    "\n",
    "match_list = []\n",
    "for item in matches:\n",
    "    match_link_html = item.find('a')\n",
    "    if match_link_html:\n",
    "        match_type = match_link_html.contents[0]\n",
    "        if 'T20' in match_type:\n",
    "            match_list.append('http://stats.espncricinfo.com' + match_link_html['href'])'''"
   ]
  },
  {
   "cell_type": "code",
   "execution_count": null,
   "metadata": {},
   "outputs": [],
   "source": [
    "'''url = 'http://stats.espncricinfo.com/westindies/engine/match/1077947.html'\n",
    "request=urllib2.Request(url,None,headers)\n",
    "response = urllib2.urlopen(request)\n",
    "data = response.read()\n",
    "page_soup = soup(data, 'html.parser')\n",
    "\n",
    "article = page_soup.find('article',{'class': 'sub-module scorecard'})\n",
    "\n",
    "for match in match_list:\n",
    "    time.sleep(2)\n",
    "    request=urllib2.Request(match,None,headers)\n",
    "    response = urllib2.urlopen(request)\n",
    "    data = response.read()\n",
    "    page_soup = soup(data, 'html.parser')\n",
    "    #page_soup.body.findAll(text='Python Jobs') \n",
    "    for index, item in player_details.iterrows():\n",
    "        if page_soup.body.findAll(text= item['link']):\n",
    "            print(match)\n",
    "            print(item['name'])'''"
   ]
  },
  {
   "cell_type": "code",
   "execution_count": null,
   "metadata": {},
   "outputs": [],
   "source": []
  },
  {
   "cell_type": "code",
   "execution_count": null,
   "metadata": {},
   "outputs": [],
   "source": []
  }
 ],
 "metadata": {
  "kernelspec": {
   "display_name": "Python 3",
   "language": "python",
   "name": "python3"
  },
  "language_info": {
   "codemirror_mode": {
    "name": "ipython",
    "version": 3
   },
   "file_extension": ".py",
   "mimetype": "text/x-python",
   "name": "python",
   "nbconvert_exporter": "python",
   "pygments_lexer": "ipython3",
   "version": "3.7.1"
  }
 },
 "nbformat": 4,
 "nbformat_minor": 2
}
